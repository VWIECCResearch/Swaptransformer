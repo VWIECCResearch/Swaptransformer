{
 "cells": [
  {
   "cell_type": "code",
   "execution_count": 5,
   "metadata": {},
   "outputs": [],
   "source": [
    "import io\n",
    "import os\n",
    "import re\n",
    "import lzma\n",
    "import pickle\n",
    "import sys\n",
    "import time\n",
    "import torch\n",
    "\n",
    "import matplotlib.patches as mpatches\n",
    "import pandas as pd\n",
    "import numpy as np\n",
    "import matplotlib.pyplot as plt\n",
    "\n",
    "from torch.utils.data import Dataset\n",
    "from glob import glob\n",
    "\n"
   ]
  },
  {
   "cell_type": "code",
   "execution_count": 3,
   "metadata": {},
   "outputs": [
    {
     "data": {
      "text/plain": [
       "'2023_08_09-15_57'"
      ]
     },
     "execution_count": 3,
     "metadata": {},
     "output_type": "execute_result"
    }
   ],
   "source": [
    "time.strftime(\"%Y_%m_%d-%H_%M\")"
   ]
  },
  {
   "attachments": {},
   "cell_type": "markdown",
   "metadata": {},
   "source": [
    "Checking the raw data saved as pickle"
   ]
  },
  {
   "cell_type": "code",
   "execution_count": 19,
   "metadata": {},
   "outputs": [
    {
     "name": "stdout",
     "output_type": "stream",
     "text": [
      "0\n",
      "0\n",
      "0\n",
      "0\n",
      "0\n",
      "0\n",
      "0\n",
      "0\n",
      "0\n",
      "0\n",
      "0\n",
      "0\n",
      "0\n",
      "0\n",
      "0\n",
      "0\n",
      "0\n",
      "0\n",
      "0\n",
      "0\n",
      "0\n",
      "0\n",
      "0\n",
      "0\n",
      "0\n",
      "0\n",
      "0\n",
      "0\n",
      "0\n",
      "0\n",
      "0\n",
      "0\n",
      "0\n",
      "0\n",
      "0\n",
      "0\n",
      "0\n",
      "0\n",
      "0\n",
      "0\n",
      "0\n",
      "     initials        time milestone task  eps  step  pythonTime  ego_speed  \\\n",
      "3957       PA  1689723931       M26  FMD   41  3957   79.807364  20.352108   \n",
      "3958       PA  1689723931       M26  FMD   41  3958   79.823931  20.352108   \n",
      "\n",
      "      position_x  position_y  ...  speed_limit  expert_type  collision_type  \\\n",
      "3957  828.974670 -288.396729  ...       20.375         Sumo        262144.0   \n",
      "3958  828.939514 -288.802246  ...       20.375         Sumo        262144.0   \n",
      "\n",
      "      left_lane_available  right_lane_available  allowed_speed  \\\n",
      "3957                  0.0                   0.0      22.006975   \n",
      "3958                  1.0                   0.0      22.006975   \n",
      "\n",
      "                                            movable_obj  speed_action  \\\n",
      "3957  [[0.0, 0.0, 0.0, 0.0, 0.0, 0.0, 0.0, 0.0, 0.0,...      0.457865   \n",
      "3958  [[0.0, 0.0, 0.0, 0.0, 0.0, 0.0, 0.0, 0.0, 0.0,...      0.457865   \n",
      "\n",
      "      lane_change_command  travel_assist_lane_change_state  \n",
      "3957                    0                              0.0  \n",
      "3958                    0                              0.0  \n",
      "\n",
      "[2 rows x 37 columns]\n",
      "1\n",
      "0\n",
      "0\n",
      "0\n",
      "0\n",
      "0\n",
      "0\n",
      "0\n",
      "0\n",
      "0\n",
      "0\n",
      "0\n",
      "0\n",
      "0\n",
      "0\n",
      "0\n",
      "0\n",
      "0\n",
      "0\n",
      "0\n",
      "0\n",
      "0\n",
      "0\n",
      "0\n",
      "0\n",
      "0\n",
      "0\n",
      "0\n",
      "0\n",
      "0\n",
      "0\n",
      "0\n",
      "0\n",
      "0\n",
      "0\n",
      "0\n",
      "0\n",
      "0\n",
      "0\n",
      "0\n",
      "0\n",
      "0\n",
      "0\n",
      "0\n",
      "0\n",
      "0\n",
      "0\n",
      "0\n",
      "0\n",
      "0\n",
      "0\n",
      "0\n",
      "0\n",
      "0\n",
      "0\n",
      "0\n",
      "0\n",
      "0\n",
      "0\n",
      "0\n",
      "0\n",
      "0\n",
      "0\n",
      "0\n",
      "0\n",
      "0\n",
      "0\n",
      "0\n",
      "    initials        time milestone task  eps  step  pythonTime  ego_speed  \\\n",
      "535       PA  1689723931       M26  FMD  109   535   10.376033       10.7   \n",
      "536       PA  1689723931       M26  FMD  109   536   10.409460       10.7   \n",
      "\n",
      "     position_x  position_y  ...  speed_limit  expert_type  collision_type  \\\n",
      "535  287.302795  -26.471798  ...         22.0         Sumo        262144.0   \n",
      "536  287.202454  -26.282774  ...         22.0         Sumo        262144.0   \n",
      "\n",
      "     left_lane_available  right_lane_available  allowed_speed  \\\n",
      "535                  0.0                   0.0      20.187588   \n",
      "536                  1.0                   1.0      17.869923   \n",
      "\n",
      "                                           movable_obj  speed_action  \\\n",
      "535  [[4.0, -41.429436, -2.186489, 16.209333, 0.0, ...      0.274157   \n",
      "536  [[4.0, -41.64644, -2.1285896, 16.209333, 0.0, ...      0.274157   \n",
      "\n",
      "     lane_change_command  travel_assist_lane_change_state  \n",
      "535                    0                              3.0  \n",
      "536                    0                              3.0  \n",
      "\n",
      "[2 rows x 37 columns]\n",
      "1\n",
      "0\n",
      "0\n",
      "0\n",
      "0\n",
      "0\n",
      "0\n",
      "0\n",
      "0\n",
      "0\n",
      "0\n",
      "0\n",
      "0\n",
      "0\n",
      "0\n",
      "0\n",
      "0\n",
      "0\n",
      "0\n",
      "0\n",
      "0\n",
      "0\n",
      "0\n",
      "0\n",
      "0\n",
      "0\n",
      "0\n",
      "0\n",
      "0\n",
      "0\n",
      "0\n",
      "0\n",
      "0\n",
      "0\n",
      "0\n",
      "0\n",
      "0\n",
      "0\n",
      "0\n",
      "0\n",
      "0\n",
      "0\n",
      "0\n",
      "0\n",
      "0\n",
      "0\n",
      "0\n",
      "0\n",
      "0\n",
      "0\n",
      "0\n",
      "0\n",
      "0\n",
      "0\n",
      "0\n",
      "0\n",
      "0\n",
      "0\n",
      "0\n",
      "0\n",
      "0\n",
      "0\n",
      "0\n",
      "0\n",
      "0\n",
      "0\n",
      "0\n",
      "0\n",
      "0\n",
      "0\n",
      "0\n",
      "0\n",
      "0\n",
      "0\n",
      "0\n",
      "0\n",
      "0\n",
      "0\n",
      "0\n",
      "0\n",
      "0\n",
      "0\n",
      "0\n",
      "0\n",
      "0\n",
      "0\n",
      "0\n",
      "0\n",
      "0\n",
      "0\n",
      "0\n",
      "9762.96\n"
     ]
    }
   ],
   "source": [
    "lst = []\n",
    "length = 0\n",
    "for i in range(1, 201):\n",
    "    raw_path = f\"/home/aghazap/Desktop/SimulationExecutables/SimPilotExe_V14_0_0_B190_Highway3LanesOneway/data_M26/datafiles/PA_M26_FMD_1689723931_{i}.pkl\"\n",
    "    df_raw = pd.read_pickle(raw_path)\n",
    "    lst.append(np.unique(df_raw[\"collision_type\"]))\n",
    "    length += len(df_raw.index)\n",
    "    if 262144 in np.unique(df_raw[\"collision_type\"]):\n",
    "        print(df_raw[df_raw[\"collision_type\"] == 262144])\n",
    "    print(len(df_raw[(df_raw[\"left_lane_available\"] == 0) & (df_raw[\"right_lane_available\"] == 0)]))\n",
    "    del df_raw\n",
    "print(length / 200)"
   ]
  },
  {
   "cell_type": "code",
   "execution_count": 5,
   "metadata": {},
   "outputs": [
    {
     "data": {
      "text/plain": [
       "array([     0., 262144.], dtype=float32)"
      ]
     },
     "execution_count": 5,
     "metadata": {},
     "output_type": "execute_result"
    }
   ],
   "source": [
    "vals = []\n",
    "for ar in lst:\n",
    "    for num in ar:\n",
    "        vals.append(num)\n",
    "np.unique(vals)"
   ]
  },
  {
   "attachments": {},
   "cell_type": "markdown",
   "metadata": {},
   "source": [
    "Checking the processed data saved as pickle"
   ]
  },
  {
   "cell_type": "code",
   "execution_count": 16,
   "metadata": {},
   "outputs": [
    {
     "ename": "AttributeError",
     "evalue": "'Figure' object has no attribute 'scatter'",
     "output_type": "error",
     "traceback": [
      "\u001b[0;31m---------------------------------------------------------------------------\u001b[0m",
      "\u001b[0;31mAttributeError\u001b[0m                            Traceback (most recent call last)",
      "Cell \u001b[0;32mIn[16], line 10\u001b[0m\n\u001b[1;32m      8\u001b[0m     \u001b[39mfor\u001b[39;00m i \u001b[39min\u001b[39;00m \u001b[39mrange\u001b[39m(\u001b[39m20\u001b[39m):\n\u001b[1;32m      9\u001b[0m         \u001b[39mif\u001b[39;00m frame[i][\u001b[39m0\u001b[39m] \u001b[39m!=\u001b[39m \u001b[39m0\u001b[39m:\n\u001b[0;32m---> 10\u001b[0m             fig\u001b[39m.\u001b[39;49mscatter(frame[i][\u001b[39m2\u001b[39m], frame[i][\u001b[39m1\u001b[39m], color\u001b[39m=\u001b[39m\u001b[39m'\u001b[39m\u001b[39mmediumvioletred\u001b[39m\u001b[39m'\u001b[39m, alpha\u001b[39m=\u001b[39m\u001b[39m0.01\u001b[39m)\n\u001b[1;32m     11\u001b[0m fig\u001b[39m.\u001b[39mgca()\u001b[39m.\u001b[39madd_patch(rect)\n\u001b[1;32m     12\u001b[0m fig\u001b[39m.\u001b[39mtitle(\u001b[39m\"\u001b[39m\u001b[39mHeatmap of vehicles around Ego\u001b[39m\u001b[39m\"\u001b[39m)\n",
      "\u001b[0;31mAttributeError\u001b[0m: 'Figure' object has no attribute 'scatter'"
     ]
    },
    {
     "data": {
      "image/png": "[encoded data removed]",
      "text/plain": [
       "<Figure size 100x200 with 1 Axes>"
      ]
     },
     "metadata": {},
     "output_type": "display_data"
    }
   ],
   "source": [
    "processed_path = \"/home/aghazap/Desktop/SimulationExecutables/SimPilotExe_V14_0_2_B193_Highway3LanesOneway/data_M26/datafiles/PA_M26_FMD_1689723931_1.pkl\"\n",
    "df = pd.read_pickle(processed_path)\n",
    "lst = df[\"movable_obj\"]\n",
    "lst[0][0]\n",
    "fig, ax = plt.subplots(figsize=(1, 2))\n",
    "rect = mpatches.Rectangle((-2, -3), 1, 8, fill=True, color=\"steelblue\", linewidth=2)\n",
    "for frame in lst:\n",
    "    for i in range(20):\n",
    "        if frame[i][0] != 0:\n",
    "            fig.scatter(frame[i][2], frame[i][1], color='mediumvioletred', alpha=0.01)\n",
    "fig.gca().add_patch(rect)\n",
    "fig.title(\"Heatmap of vehicles around Ego\")\n",
    "plt.show()"
   ]
  },
  {
   "cell_type": "code",
   "execution_count": 4,
   "metadata": {},
   "outputs": [],
   "source": [
    "def interpolate_array(arr, num_points):\n",
    "    indices = np.linspace(0, len(arr) - 1, num_points)\n",
    "    interpolated_values = np.interp(indices, range(len(arr)), arr)\n",
    "    return interpolated_values\n",
    "POLYFIT_THRESHOLD=0.00001\n",
    "def compute_bezier(x_local, y_local, poly_points, time_based):\n",
    "\n",
    "        x_val, y_val = x_local,y_local\n",
    "        x_val = interpolate_array(x_val, poly_points)\n",
    "        y_val = interpolate_array(y_val, poly_points)\n",
    "        t_val = np.linspace(0, 2.5, 100)\n",
    "        num_of_degrees = 17\n",
    "        if sum(x_val) > POLYFIT_THRESHOLD:\n",
    "            lowest_mse = -1\n",
    "            top_deg = 0\n",
    "            for degree in range(1, num_of_degrees):\n",
    "                if time_based:\n",
    "                    x_fit = np.polyfit(t_val, x_val, deg=degree)\n",
    "                    func_x = np.poly1d(x_fit)\n",
    "                    x_new = func_x(t_val)\n",
    "                    y_fit = np.polyfit(t_val, y_val, deg=degree)\n",
    "                    func_y = np.poly1d(y_fit)\n",
    "                    y_new = func_y(t_val)\n",
    "                else:\n",
    "                    z_fit = np.polyfit(x_val, y_val, deg=degree)\n",
    "                    func = np.poly1d(z_fit)\n",
    "                    x_new = np.linspace(x_val[0], x_val[-1], poly_points)\n",
    "                    y_new = func(x_new)\n",
    "                    xsqrd = (x_val - x_new) ** 2\n",
    "                    ysqrd = (y_val - y_new) ** 2\n",
    "                    total_mse = np.sqrt(xsqrd + ysqrd).mean()\n",
    "                    if total_mse < lowest_mse or lowest_mse == -1:\n",
    "                        lowest_mse = total_mse\n",
    "                        top_deg = degree\n",
    "                    print(degree, total_mse)\n",
    "\n",
    "            z_fit = np.polyfit(x_val, y_val, deg=top_deg)\n",
    "            func = np.poly1d(z_fit)\n",
    "            x_new = np.linspace(x_val[0], x_val[-1], poly_points)\n",
    "            y_new = func(x_new)\n",
    "        else:\n",
    "            x_new = np.zeros(poly_points)\n",
    "            y_new = np.zeros(poly_points)\n",
    "        return x_new, y_new"
   ]
  },
  {
   "cell_type": "code",
   "execution_count": 10,
   "metadata": {},
   "outputs": [
    {
     "name": "stdout",
     "output_type": "stream",
     "text": [
      "1 0.4949495111752039\n",
      "2 0.4949495111752039\n",
      "3 0.4949495111752039\n",
      "4 0.4949495111752039\n",
      "5 0.4949495111752039\n",
      "6 0.4949495111752039\n",
      "7 0.4949495111752039\n",
      "8 0.4949495111752039\n",
      "9 0.4949495111752039\n",
      "10 0.4949495111752039\n",
      "11 0.4949495111752039\n",
      "12 0.4949495111752039\n",
      "13 0.4949495111752039\n",
      "14 0.4949495111752039\n",
      "15 0.4949495111752039\n",
      "16 0.4949495111752039\n",
      "[0.   0.1  0.45 1.05 1.9  3.  ]\n",
      "[ 0.  0.  0.  0.  0. -0.]\n"
     ]
    },
    {
     "data": {
      "text/plain": [
       "<matplotlib.legend.Legend at 0x7f4c41dc21f0>"
      ]
     },
     "execution_count": 10,
     "metadata": {},
     "output_type": "execute_result"
    },
    {
     "data": {
      "image/png": "[encoded data removed]",
      "text/plain": [
       "<Figure size 640x480 with 1 Axes>"
      ]
     },
     "metadata": {},
     "output_type": "display_data"
    }
   ],
   "source": [
    "len(df_processed.index)\n",
    "ind = 0\n",
    "x = df_processed.loc[ind, \"future_x_local_array\"]\n",
    "y = df_processed.loc[ind, \"future_y_local_array\"]\n",
    "x = np.insert(x, 0, 0)\n",
    "y = np.insert(y, 0, 0)\n",
    "# print(df_processed.loc[ind, \"future_x_local_array\"])\n",
    "# print(df_processed.loc[ind, \"future_y_local_array\"])\n",
    "# print(df_processed.loc[ind, \"future_points\"])\n",
    "xx_new, yy_new = compute_bezier(x, y, 100, False)\n",
    "plt.plot(xx_new, yy_new, c='black', label='compute bezier')\n",
    "\n",
    "plt.plot(df_processed.loc[ind, \"future_points\"][:100], df_processed.loc[ind, \"future_points\"][100:200], c='b', label=\"Pre-processed\")\n",
    "plt.plot(x, y, c='orange', label=\"Groundtruth\")\n",
    "print(x)\n",
    "print(y)\n",
    "# plt.plot(x, y_new, c='red', label=\"Polyfit only\")\n",
    "x = interpolate_array(x, 100)\n",
    "y = interpolate_array(y, 100)\n",
    "\n",
    "# plt.plot(x, y, c='g', label=\"Inteprolated\")\n",
    "\n",
    "z = np.polyfit(x, y, deg=1)\n",
    "func = np.poly1d(z)\n",
    "y_new = func(x)\n",
    "# plt.plot(x, y_new, c='pink', label=\"Polyfit interpolated\")\n",
    "plt_name = df_processed.loc[ind, \"step\"]\n",
    "plt.title(plt_name)\n",
    "plt.legend()"
   ]
  },
  {
   "cell_type": "code",
   "execution_count": null,
   "metadata": {},
   "outputs": [],
   "source": [
    "plt.hist(df_processed[\"ego_speed\"])"
   ]
  },
  {
   "cell_type": "code",
   "execution_count": null,
   "metadata": {},
   "outputs": [],
   "source": [
    "spawn_points = pd.read_csv(\"/home/aghazap/Desktop/SimulationExecutables/SimPilotExe_V12_0_2_B172_Highway3LanesOneway/cpc_aitp_imitation/scenedata/newspawnpoints.csv\")\n",
    "error_points = pd.read_csv(\"/home/aghazap/Desktop/SimulationExecutables/SimPilotExe_V12_0_2_B172_Highway3LanesOneway/error_points.csv\")"
   ]
  },
  {
   "cell_type": "code",
   "execution_count": null,
   "metadata": {},
   "outputs": [],
   "source": [
    "init_points = df_processed[df_processed[\"ego_speed\"] < 0.01]"
   ]
  },
  {
   "cell_type": "code",
   "execution_count": null,
   "metadata": {},
   "outputs": [],
   "source": [
    "plt.scatter(spawn_points[\"px\"], spawn_points[\"py\"], color=\"r\", label=\"spawn points\")\n",
    "plt.scatter(error_points[\"px\"], error_points[\"py\"], color=\"g\", label=\"error points\")\n",
    "# plt.scatter(init_points[\"position_x\"], init_points[\"position_y\"], color='b', label=\"positions\")\n",
    "plt.legend()\n",
    "plt.show()"
   ]
  },
  {
   "cell_type": "code",
   "execution_count": null,
   "metadata": {},
   "outputs": [],
   "source": [
    "os.system(\"ls -lh ./data/csvfiles/\")"
   ]
  },
  {
   "attachments": {},
   "cell_type": "markdown",
   "metadata": {},
   "source": [
    "Checking Images"
   ]
  },
  {
   "cell_type": "code",
   "execution_count": null,
   "metadata": {},
   "outputs": [],
   "source": [
    "fig = plt.subplots(1, 3, figsize = (5, 4))\n",
    "images_path = \"/home/aghazap/Desktop/SimulationExecutables/SimPilotExe_V9_1_3_B109_OSCOval/data/images\"\n",
    "\n",
    "ind = 1\n",
    "for directory in os.listdir(images_path):\n",
    "    if directory[-1] == \"2\":\n",
    "        image_name = sorted(os.listdir(os.path.join(images_path, directory)))[200]\n",
    "        image = plt.imread(os.path.join(images_path, directory, image_name))\n",
    "        \n",
    "        plt.subplot(1, 3, ind)\n",
    "        plt.axis(\"off\")\n",
    "        plt.title(image_name.split(\"_\")[0])\n",
    "        plt.imshow(image, cmap=\"plasma\")\n",
    "\n",
    "        ind+=1\n",
    "        \n",
    "plt.show()"
   ]
  }
 ],
 "metadata": {
  "kernelspec": {
   "display_name": "AITP",
   "language": "python",
   "name": "python3"
  },
  "language_info": {
   "codemirror_mode": {
    "name": "ipython",
    "version": 3
   },
   "file_extension": ".py",
   "mimetype": "text/x-python",
   "name": "python",
   "nbconvert_exporter": "python",
   "pygments_lexer": "ipython3",
   "version": "3.8.16"
  },
  "orig_nbformat": 4,
  "vscode": {
   "interpreter": {
    "hash": "537d042f818c9ab4844abadf36133df3fa471cee5f0c0a6f3ca2d67bed7a701b"
   }
  }
 },
 "nbformat": 4,
 "nbformat_minor": 2
}
